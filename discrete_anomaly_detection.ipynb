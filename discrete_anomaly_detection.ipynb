{
 "cells": [
  {
   "cell_type": "code",
   "execution_count": 1,
   "id": "5b49e3d6",
   "metadata": {},
   "outputs": [],
   "source": [
    "import matplotlib.pyplot as plt\n",
    "import numpy as np\n",
    "import pandas as pd\n",
    "import seaborn as sns\n",
    "from sklearn import metrics\n",
    "import env"
   ]
  },
  {
   "cell_type": "markdown",
   "id": "137d60e9",
   "metadata": {},
   "source": [
    "### Exercises: Use basic probability to identify anomalous requests. Using the methods covered in this lesson, examine the rest of the features in the api access logs data set."
   ]
  },
  {
   "cell_type": "code",
   "execution_count": 2,
   "id": "fdd82cab",
   "metadata": {},
   "outputs": [
    {
     "data": {
      "text/html": [
       "<div>\n",
       "<style scoped>\n",
       "    .dataframe tbody tr th:only-of-type {\n",
       "        vertical-align: middle;\n",
       "    }\n",
       "\n",
       "    .dataframe tbody tr th {\n",
       "        vertical-align: top;\n",
       "    }\n",
       "\n",
       "    .dataframe thead th {\n",
       "        text-align: right;\n",
       "    }\n",
       "</style>\n",
       "<table border=\"1\" class=\"dataframe\">\n",
       "  <thead>\n",
       "    <tr style=\"text-align: right;\">\n",
       "      <th></th>\n",
       "      <th>ip</th>\n",
       "      <th>timestamp</th>\n",
       "      <th>request_method</th>\n",
       "      <th>request_path</th>\n",
       "      <th>http_version</th>\n",
       "      <th>status_code</th>\n",
       "      <th>size</th>\n",
       "      <th>user_agent</th>\n",
       "    </tr>\n",
       "  </thead>\n",
       "  <tbody>\n",
       "    <tr>\n",
       "      <th>0</th>\n",
       "      <td>97.105.19.58</td>\n",
       "      <td>16/Apr/2019 19:34:42</td>\n",
       "      <td>GET</td>\n",
       "      <td>/api/v1/sales?page=81</td>\n",
       "      <td>HTTP/1.1</td>\n",
       "      <td>200</td>\n",
       "      <td>512495</td>\n",
       "      <td>python-requests/2.21.0</td>\n",
       "    </tr>\n",
       "    <tr>\n",
       "      <th>1</th>\n",
       "      <td>97.105.19.58</td>\n",
       "      <td>16/Apr/2019 19:34:42</td>\n",
       "      <td>GET</td>\n",
       "      <td>/api/v1/items</td>\n",
       "      <td>HTTP/1.1</td>\n",
       "      <td>200</td>\n",
       "      <td>3561</td>\n",
       "      <td>python-requests/2.21.0</td>\n",
       "    </tr>\n",
       "    <tr>\n",
       "      <th>2</th>\n",
       "      <td>97.105.19.58</td>\n",
       "      <td>16/Apr/2019 19:34:44</td>\n",
       "      <td>GET</td>\n",
       "      <td>/api/v1/sales?page=82</td>\n",
       "      <td>HTTP/1.1</td>\n",
       "      <td>200</td>\n",
       "      <td>510103</td>\n",
       "      <td>python-requests/2.21.0</td>\n",
       "    </tr>\n",
       "    <tr>\n",
       "      <th>3</th>\n",
       "      <td>97.105.19.58</td>\n",
       "      <td>16/Apr/2019 19:34:46</td>\n",
       "      <td>GET</td>\n",
       "      <td>/api/v1/sales?page=83</td>\n",
       "      <td>HTTP/1.1</td>\n",
       "      <td>200</td>\n",
       "      <td>510003</td>\n",
       "      <td>python-requests/2.21.0</td>\n",
       "    </tr>\n",
       "    <tr>\n",
       "      <th>4</th>\n",
       "      <td>97.105.19.58</td>\n",
       "      <td>16/Apr/2019 19:34:48</td>\n",
       "      <td>GET</td>\n",
       "      <td>/api/v1/sales?page=84</td>\n",
       "      <td>HTTP/1.1</td>\n",
       "      <td>200</td>\n",
       "      <td>511963</td>\n",
       "      <td>python-requests/2.21.0</td>\n",
       "    </tr>\n",
       "  </tbody>\n",
       "</table>\n",
       "</div>"
      ],
      "text/plain": [
       "             ip             timestamp request_method           request_path  \\\n",
       "0  97.105.19.58  16/Apr/2019 19:34:42            GET  /api/v1/sales?page=81   \n",
       "1  97.105.19.58  16/Apr/2019 19:34:42            GET          /api/v1/items   \n",
       "2  97.105.19.58  16/Apr/2019 19:34:44            GET  /api/v1/sales?page=82   \n",
       "3  97.105.19.58  16/Apr/2019 19:34:46            GET  /api/v1/sales?page=83   \n",
       "4  97.105.19.58  16/Apr/2019 19:34:48            GET  /api/v1/sales?page=84   \n",
       "\n",
       "  http_version status_code    size              user_agent  \n",
       "0     HTTP/1.1         200  512495  python-requests/2.21.0  \n",
       "1     HTTP/1.1         200    3561  python-requests/2.21.0  \n",
       "2     HTTP/1.1         200  510103  python-requests/2.21.0  \n",
       "3     HTTP/1.1         200  510003  python-requests/2.21.0  \n",
       "4     HTTP/1.1         200  511963  python-requests/2.21.0  "
      ]
     },
     "execution_count": 2,
     "metadata": {},
     "output_type": "execute_result"
    }
   ],
   "source": [
    "# function to deal with parsing one entry in our log data\n",
    "def parse_log_entry(entry):\n",
    "    parts = entry.split()\n",
    "    output = {}\n",
    "    output['ip'] = parts[0]\n",
    "    output['timestamp'] = parts[3][1:].replace(':', ' ', 1)\n",
    "    output['request_method'] = parts[5][1:]\n",
    "    output['request_path'] = parts[6]\n",
    "    output['http_version'] = parts[7][:-1]\n",
    "    output['status_code'] = parts[8]\n",
    "    output['size'] = int(parts[9])\n",
    "    output['user_agent'] = ' '.join(parts[11:]).replace('\"', '')\n",
    "    return pd.Series(output)\n",
    "\n",
    "url = f'mysql+pymysql://{env.user}:{env.password}@{env.host}/logs'\n",
    "df = pd.read_sql('SELECT * FROM api_access', url)\n",
    "# df = pd.concat([df.entry, df.entry.apply(parse_log_entry)], axis=1)\n",
    "df = df.entry.apply(parse_log_entry)\n",
    "df.head()\n"
   ]
  },
  {
   "cell_type": "code",
   "execution_count": 3,
   "id": "58f64f6d",
   "metadata": {},
   "outputs": [],
   "source": [
    "#setting up a column for size of megabytes\n",
    "df['size_mb'] = df['size'] / 1024 / 1024\n",
    "#passing df through pd.to_datetime for date and time format/dtype\n",
    "df.timestamp = pd.to_datetime(df.timestamp)\n",
    "#setting timestamp as the index\n",
    "df = df.set_index('timestamp')"
   ]
  },
  {
   "cell_type": "markdown",
   "id": "ebcacbbd",
   "metadata": {},
   "source": [
    "### Looking at IP:"
   ]
  },
  {
   "cell_type": "code",
   "execution_count": 4,
   "id": "da2c3616",
   "metadata": {},
   "outputs": [
    {
     "data": {
      "text/plain": [
       "97.105.19.58      11998\n",
       "173.173.113.51     1059\n",
       "72.181.113.170      613\n",
       "72.181.105.81       246\n",
       "24.26.242.9          21\n",
       "Name: ip, dtype: int64"
      ]
     },
     "execution_count": 4,
     "metadata": {},
     "output_type": "execute_result"
    }
   ],
   "source": [
    "#looking at the value counts of IP (head)\n",
    "df.ip.value_counts().head()"
   ]
  },
  {
   "cell_type": "code",
   "execution_count": 5,
   "id": "d1c1a6a7",
   "metadata": {},
   "outputs": [
    {
     "data": {
      "text/plain": [
       "97.105.19.58      0.858595\n",
       "173.173.113.51    0.075784\n",
       "72.181.113.170    0.043867\n",
       "72.181.105.81     0.017604\n",
       "24.26.242.9       0.001503\n",
       "Name: ip, dtype: float64"
      ]
     },
     "execution_count": 5,
     "metadata": {},
     "output_type": "execute_result"
    }
   ],
   "source": [
    "#turning value counts into percentages\n",
    "df.ip.value_counts(normalize=True).head()"
   ]
  },
  {
   "cell_type": "code",
   "execution_count": 6,
   "id": "25ab3126",
   "metadata": {},
   "outputs": [
    {
     "data": {
      "text/plain": [
       "34.207.64.242    1\n",
       "3.88.129.158     1\n",
       "52.91.30.150     1\n",
       "52.90.165.200    1\n",
       "45.23.250.16     1\n",
       "Name: ip, dtype: int64"
      ]
     },
     "execution_count": 6,
     "metadata": {},
     "output_type": "execute_result"
    }
   ],
   "source": [
    "#looking at the value counts of IP (tail)\n",
    "df.ip.value_counts().tail()"
   ]
  },
  {
   "cell_type": "code",
   "execution_count": 7,
   "id": "73ed36f8",
   "metadata": {},
   "outputs": [
    {
     "data": {
      "text/plain": [
       "34.207.64.242    0.000072\n",
       "3.88.129.158     0.000072\n",
       "52.91.30.150     0.000072\n",
       "52.90.165.200    0.000072\n",
       "45.23.250.16     0.000072\n",
       "Name: ip, dtype: float64"
      ]
     },
     "execution_count": 7,
     "metadata": {},
     "output_type": "execute_result"
    }
   ],
   "source": [
    "#turning tail() into percentages\n",
    "df.ip.value_counts(normalize=True).tail()"
   ]
  },
  {
   "cell_type": "markdown",
   "id": "13507166",
   "metadata": {},
   "source": [
    "### Takeaways: Ip address 97.105...address holds the most weight of these logs."
   ]
  },
  {
   "cell_type": "code",
   "execution_count": 8,
   "id": "c058775c",
   "metadata": {},
   "outputs": [],
   "source": [
    "#defining a function to combine the above:\n",
    "def value_counts_and_frequencies(s: pd.Series, dropna=True) -> pd.DataFrame:\n",
    "    return pd.merge(\n",
    "    s.value_counts(dropna=False).rename('count'),\n",
    "    s.value_counts(dropna=False, normalize=True).rename('proba'),\n",
    "    left_index=True,\n",
    "    right_index=True,\n",
    "    )"
   ]
  },
  {
   "cell_type": "code",
   "execution_count": 9,
   "id": "b31b77aa",
   "metadata": {},
   "outputs": [
    {
     "data": {
      "text/html": [
       "<div>\n",
       "<style scoped>\n",
       "    .dataframe tbody tr th:only-of-type {\n",
       "        vertical-align: middle;\n",
       "    }\n",
       "\n",
       "    .dataframe tbody tr th {\n",
       "        vertical-align: top;\n",
       "    }\n",
       "\n",
       "    .dataframe thead th {\n",
       "        text-align: right;\n",
       "    }\n",
       "</style>\n",
       "<table border=\"1\" class=\"dataframe\">\n",
       "  <thead>\n",
       "    <tr style=\"text-align: right;\">\n",
       "      <th></th>\n",
       "      <th>count</th>\n",
       "      <th>proba</th>\n",
       "    </tr>\n",
       "  </thead>\n",
       "  <tbody>\n",
       "    <tr>\n",
       "      <th>97.105.19.58</th>\n",
       "      <td>11998</td>\n",
       "      <td>0.858595</td>\n",
       "    </tr>\n",
       "    <tr>\n",
       "      <th>173.173.113.51</th>\n",
       "      <td>1059</td>\n",
       "      <td>0.075784</td>\n",
       "    </tr>\n",
       "    <tr>\n",
       "      <th>72.181.113.170</th>\n",
       "      <td>613</td>\n",
       "      <td>0.043867</td>\n",
       "    </tr>\n",
       "    <tr>\n",
       "      <th>72.181.105.81</th>\n",
       "      <td>246</td>\n",
       "      <td>0.017604</td>\n",
       "    </tr>\n",
       "    <tr>\n",
       "      <th>24.26.242.9</th>\n",
       "      <td>21</td>\n",
       "      <td>0.001503</td>\n",
       "    </tr>\n",
       "  </tbody>\n",
       "</table>\n",
       "</div>"
      ],
      "text/plain": [
       "                count     proba\n",
       "97.105.19.58    11998  0.858595\n",
       "173.173.113.51   1059  0.075784\n",
       "72.181.113.170    613  0.043867\n",
       "72.181.105.81     246  0.017604\n",
       "24.26.242.9        21  0.001503"
      ]
     },
     "execution_count": 9,
     "metadata": {},
     "output_type": "execute_result"
    }
   ],
   "source": [
    "ip_df = value_counts_and_frequencies(df.ip)\n",
    "ip_df.head()"
   ]
  },
  {
   "cell_type": "code",
   "execution_count": 10,
   "id": "5af983cf",
   "metadata": {},
   "outputs": [
    {
     "data": {
      "text/plain": [
       "<AxesSubplot:>"
      ]
     },
     "execution_count": 10,
     "metadata": {},
     "output_type": "execute_result"
    },
    {
     "data": {
      "image/png": "[encoded data removed]",
      "text/plain": [
       "<Figure size 360x648 with 1 Axes>"
      ]
     },
     "metadata": {
      "needs_background": "light"
     },
     "output_type": "display_data"
    }
   ],
   "source": [
    "#finding how many unique ip addresses there are:\n",
    "ip_df['count'].sort_values().tail(5).plot.barh(figsize=(5, 9))"
   ]
  },
  {
   "cell_type": "markdown",
   "id": "5ed2ba70",
   "metadata": {},
   "source": [
    "________________________________________"
   ]
  },
  {
   "cell_type": "markdown",
   "id": "a555a3af",
   "metadata": {},
   "source": [
    "### Looking for anomalies for timestamp:"
   ]
  },
  {
   "cell_type": "code",
   "execution_count": 11,
   "id": "e0d8895a",
   "metadata": {},
   "outputs": [
    {
     "data": {
      "text/plain": [
       "2019-04-16 19:56:10    9\n",
       "2019-04-16 19:49:58    8\n",
       "2019-04-16 20:01:30    7\n",
       "2019-04-16 20:12:23    6\n",
       "2019-04-16 20:02:59    6\n",
       "                      ..\n",
       "2019-04-16 21:10:09    1\n",
       "2019-04-16 21:10:07    1\n",
       "2019-04-16 21:10:05    1\n",
       "2019-04-16 21:10:03    1\n",
       "2019-04-17 12:55:14    1\n",
       "Name: timestamp, Length: 9953, dtype: int64"
      ]
     },
     "execution_count": 11,
     "metadata": {},
     "output_type": "execute_result"
    }
   ],
   "source": [
    "#looking at value count by timestamp to find any anomalies in query frequencies:\n",
    "df.index.value_counts()"
   ]
  },
  {
   "cell_type": "code",
   "execution_count": 12,
   "id": "1a98b59e",
   "metadata": {},
   "outputs": [
    {
     "data": {
      "text/html": [
       "<div>\n",
       "<style scoped>\n",
       "    .dataframe tbody tr th:only-of-type {\n",
       "        vertical-align: middle;\n",
       "    }\n",
       "\n",
       "    .dataframe tbody tr th {\n",
       "        vertical-align: top;\n",
       "    }\n",
       "\n",
       "    .dataframe thead th {\n",
       "        text-align: right;\n",
       "    }\n",
       "</style>\n",
       "<table border=\"1\" class=\"dataframe\">\n",
       "  <thead>\n",
       "    <tr style=\"text-align: right;\">\n",
       "      <th></th>\n",
       "      <th>ip</th>\n",
       "      <th>request_method</th>\n",
       "      <th>request_path</th>\n",
       "      <th>http_version</th>\n",
       "      <th>status_code</th>\n",
       "      <th>size</th>\n",
       "      <th>user_agent</th>\n",
       "      <th>size_mb</th>\n",
       "    </tr>\n",
       "    <tr>\n",
       "      <th>timestamp</th>\n",
       "      <th></th>\n",
       "      <th></th>\n",
       "      <th></th>\n",
       "      <th></th>\n",
       "      <th></th>\n",
       "      <th></th>\n",
       "      <th></th>\n",
       "      <th></th>\n",
       "    </tr>\n",
       "  </thead>\n",
       "  <tbody>\n",
       "    <tr>\n",
       "      <th>2019-04-16 19:56:10</th>\n",
       "      <td>97.105.19.58</td>\n",
       "      <td>GET</td>\n",
       "      <td>/</td>\n",
       "      <td>HTTP/1.1</td>\n",
       "      <td>200</td>\n",
       "      <td>42</td>\n",
       "      <td>python-requests/2.20.1</td>\n",
       "      <td>0.000040</td>\n",
       "    </tr>\n",
       "    <tr>\n",
       "      <th>2019-04-16 19:56:10</th>\n",
       "      <td>97.105.19.58</td>\n",
       "      <td>GET</td>\n",
       "      <td>/</td>\n",
       "      <td>HTTP/1.1</td>\n",
       "      <td>200</td>\n",
       "      <td>42</td>\n",
       "      <td>python-requests/2.21.0</td>\n",
       "      <td>0.000040</td>\n",
       "    </tr>\n",
       "    <tr>\n",
       "      <th>2019-04-16 19:56:10</th>\n",
       "      <td>97.105.19.58</td>\n",
       "      <td>GET</td>\n",
       "      <td>/api/v1/sales?page=48</td>\n",
       "      <td>HTTP/1.1</td>\n",
       "      <td>200</td>\n",
       "      <td>513027</td>\n",
       "      <td>python-requests/2.21.0</td>\n",
       "      <td>0.489261</td>\n",
       "    </tr>\n",
       "    <tr>\n",
       "      <th>2019-04-16 19:56:10</th>\n",
       "      <td>97.105.19.58</td>\n",
       "      <td>GET</td>\n",
       "      <td>/documentation</td>\n",
       "      <td>HTTP/1.1</td>\n",
       "      <td>200</td>\n",
       "      <td>348</td>\n",
       "      <td>python-requests/2.20.1</td>\n",
       "      <td>0.000332</td>\n",
       "    </tr>\n",
       "    <tr>\n",
       "      <th>2019-04-16 19:56:10</th>\n",
       "      <td>97.105.19.58</td>\n",
       "      <td>GET</td>\n",
       "      <td>/documentation</td>\n",
       "      <td>HTTP/1.1</td>\n",
       "      <td>200</td>\n",
       "      <td>348</td>\n",
       "      <td>python-requests/2.21.0</td>\n",
       "      <td>0.000332</td>\n",
       "    </tr>\n",
       "    <tr>\n",
       "      <th>2019-04-16 19:56:10</th>\n",
       "      <td>97.105.19.58</td>\n",
       "      <td>GET</td>\n",
       "      <td>/api/v1/items</td>\n",
       "      <td>HTTP/1.1</td>\n",
       "      <td>200</td>\n",
       "      <td>3561</td>\n",
       "      <td>python-requests/2.20.1</td>\n",
       "      <td>0.003396</td>\n",
       "    </tr>\n",
       "    <tr>\n",
       "      <th>2019-04-16 19:56:10</th>\n",
       "      <td>97.105.19.58</td>\n",
       "      <td>GET</td>\n",
       "      <td>/api/v1/sales?page=82</td>\n",
       "      <td>HTTP/1.1</td>\n",
       "      <td>200</td>\n",
       "      <td>510103</td>\n",
       "      <td>python-requests/2.21.0</td>\n",
       "      <td>0.486472</td>\n",
       "    </tr>\n",
       "    <tr>\n",
       "      <th>2019-04-16 19:56:10</th>\n",
       "      <td>97.105.19.58</td>\n",
       "      <td>GET</td>\n",
       "      <td>/api/v1/stores</td>\n",
       "      <td>HTTP/1.1</td>\n",
       "      <td>200</td>\n",
       "      <td>1328</td>\n",
       "      <td>python-requests/2.21.0</td>\n",
       "      <td>0.001266</td>\n",
       "    </tr>\n",
       "    <tr>\n",
       "      <th>2019-04-16 19:56:10</th>\n",
       "      <td>97.105.19.58</td>\n",
       "      <td>GET</td>\n",
       "      <td>/api/v1/items?page=2</td>\n",
       "      <td>HTTP/1.1</td>\n",
       "      <td>200</td>\n",
       "      <td>3659</td>\n",
       "      <td>python-requests/2.20.1</td>\n",
       "      <td>0.003489</td>\n",
       "    </tr>\n",
       "  </tbody>\n",
       "</table>\n",
       "</div>"
      ],
      "text/plain": [
       "                               ip request_method           request_path  \\\n",
       "timestamp                                                                 \n",
       "2019-04-16 19:56:10  97.105.19.58            GET                      /   \n",
       "2019-04-16 19:56:10  97.105.19.58            GET                      /   \n",
       "2019-04-16 19:56:10  97.105.19.58            GET  /api/v1/sales?page=48   \n",
       "2019-04-16 19:56:10  97.105.19.58            GET         /documentation   \n",
       "2019-04-16 19:56:10  97.105.19.58            GET         /documentation   \n",
       "2019-04-16 19:56:10  97.105.19.58            GET          /api/v1/items   \n",
       "2019-04-16 19:56:10  97.105.19.58            GET  /api/v1/sales?page=82   \n",
       "2019-04-16 19:56:10  97.105.19.58            GET         /api/v1/stores   \n",
       "2019-04-16 19:56:10  97.105.19.58            GET   /api/v1/items?page=2   \n",
       "\n",
       "                    http_version status_code    size              user_agent  \\\n",
       "timestamp                                                                      \n",
       "2019-04-16 19:56:10     HTTP/1.1         200      42  python-requests/2.20.1   \n",
       "2019-04-16 19:56:10     HTTP/1.1         200      42  python-requests/2.21.0   \n",
       "2019-04-16 19:56:10     HTTP/1.1         200  513027  python-requests/2.21.0   \n",
       "2019-04-16 19:56:10     HTTP/1.1         200     348  python-requests/2.20.1   \n",
       "2019-04-16 19:56:10     HTTP/1.1         200     348  python-requests/2.21.0   \n",
       "2019-04-16 19:56:10     HTTP/1.1         200    3561  python-requests/2.20.1   \n",
       "2019-04-16 19:56:10     HTTP/1.1         200  510103  python-requests/2.21.0   \n",
       "2019-04-16 19:56:10     HTTP/1.1         200    1328  python-requests/2.21.0   \n",
       "2019-04-16 19:56:10     HTTP/1.1         200    3659  python-requests/2.20.1   \n",
       "\n",
       "                      size_mb  \n",
       "timestamp                      \n",
       "2019-04-16 19:56:10  0.000040  \n",
       "2019-04-16 19:56:10  0.000040  \n",
       "2019-04-16 19:56:10  0.489261  \n",
       "2019-04-16 19:56:10  0.000332  \n",
       "2019-04-16 19:56:10  0.000332  \n",
       "2019-04-16 19:56:10  0.003396  \n",
       "2019-04-16 19:56:10  0.486472  \n",
       "2019-04-16 19:56:10  0.001266  \n",
       "2019-04-16 19:56:10  0.003489  "
      ]
     },
     "execution_count": 12,
     "metadata": {},
     "output_type": "execute_result"
    }
   ],
   "source": [
    "#looking at the timestamp that has the highest frequency occuring\n",
    "df[df.index == '2019-04-16 19:56:10']"
   ]
  },
  {
   "cell_type": "markdown",
   "id": "5b973121",
   "metadata": {},
   "source": [
    "### Takeaways: \n",
    "Not only is it strange that so many queries happened at once from the same IP address, but the request paths are also all varying. Because the status_code is clear, I would think that this IP address must have made a SQL query and is downloading all of these tables and docs for a project. \n",
    "<br><br>That or there is some website scrapping happening."
   ]
  },
  {
   "cell_type": "code",
   "execution_count": 13,
   "id": "7bcdd26b",
   "metadata": {},
   "outputs": [
    {
     "data": {
      "text/html": [
       "<div>\n",
       "<style scoped>\n",
       "    .dataframe tbody tr th:only-of-type {\n",
       "        vertical-align: middle;\n",
       "    }\n",
       "\n",
       "    .dataframe tbody tr th {\n",
       "        vertical-align: top;\n",
       "    }\n",
       "\n",
       "    .dataframe thead th {\n",
       "        text-align: right;\n",
       "    }\n",
       "</style>\n",
       "<table border=\"1\" class=\"dataframe\">\n",
       "  <thead>\n",
       "    <tr style=\"text-align: right;\">\n",
       "      <th></th>\n",
       "      <th>ip</th>\n",
       "      <th>request_method</th>\n",
       "      <th>request_path</th>\n",
       "      <th>http_version</th>\n",
       "      <th>status_code</th>\n",
       "      <th>size</th>\n",
       "      <th>user_agent</th>\n",
       "      <th>size_mb</th>\n",
       "    </tr>\n",
       "    <tr>\n",
       "      <th>timestamp</th>\n",
       "      <th></th>\n",
       "      <th></th>\n",
       "      <th></th>\n",
       "      <th></th>\n",
       "      <th></th>\n",
       "      <th></th>\n",
       "      <th></th>\n",
       "      <th></th>\n",
       "    </tr>\n",
       "  </thead>\n",
       "  <tbody>\n",
       "    <tr>\n",
       "      <th>2019-04-16 19:49:58</th>\n",
       "      <td>97.105.19.58</td>\n",
       "      <td>GET</td>\n",
       "      <td>/api/v1/items</td>\n",
       "      <td>HTTP/1.1</td>\n",
       "      <td>200</td>\n",
       "      <td>3561</td>\n",
       "      <td>python-requests/2.21.0</td>\n",
       "      <td>0.003396</td>\n",
       "    </tr>\n",
       "    <tr>\n",
       "      <th>2019-04-16 19:49:58</th>\n",
       "      <td>97.105.19.58</td>\n",
       "      <td>GET</td>\n",
       "      <td>/api/v1/sales?page=122</td>\n",
       "      <td>HTTP/1.1</td>\n",
       "      <td>200</td>\n",
       "      <td>510104</td>\n",
       "      <td>python-requests/2.21.0</td>\n",
       "      <td>0.486473</td>\n",
       "    </tr>\n",
       "    <tr>\n",
       "      <th>2019-04-16 19:49:58</th>\n",
       "      <td>97.105.19.58</td>\n",
       "      <td>GET</td>\n",
       "      <td>/api/v1/sales?page=158</td>\n",
       "      <td>HTTP/1.1</td>\n",
       "      <td>200</td>\n",
       "      <td>510316</td>\n",
       "      <td>python-requests/2.21.0</td>\n",
       "      <td>0.486675</td>\n",
       "    </tr>\n",
       "    <tr>\n",
       "      <th>2019-04-16 19:49:58</th>\n",
       "      <td>97.105.19.58</td>\n",
       "      <td>GET</td>\n",
       "      <td>/api/v1/items?page=2</td>\n",
       "      <td>HTTP/1.1</td>\n",
       "      <td>200</td>\n",
       "      <td>3659</td>\n",
       "      <td>python-requests/2.21.0</td>\n",
       "      <td>0.003489</td>\n",
       "    </tr>\n",
       "    <tr>\n",
       "      <th>2019-04-16 19:49:58</th>\n",
       "      <td>97.105.19.58</td>\n",
       "      <td>GET</td>\n",
       "      <td>/api/v1//api/v1/items/next_page</td>\n",
       "      <td>HTTP/1.1</td>\n",
       "      <td>200</td>\n",
       "      <td>162</td>\n",
       "      <td>Mozilla/5.0 (Macintosh; Intel Mac OS X 10_14_4...</td>\n",
       "      <td>0.000154</td>\n",
       "    </tr>\n",
       "    <tr>\n",
       "      <th>2019-04-16 19:49:58</th>\n",
       "      <td>97.105.19.58</td>\n",
       "      <td>GET</td>\n",
       "      <td>/api/v1/sales?page=81</td>\n",
       "      <td>HTTP/1.1</td>\n",
       "      <td>200</td>\n",
       "      <td>512495</td>\n",
       "      <td>python-requests/2.21.0</td>\n",
       "      <td>0.488753</td>\n",
       "    </tr>\n",
       "    <tr>\n",
       "      <th>2019-04-16 19:49:58</th>\n",
       "      <td>97.105.19.58</td>\n",
       "      <td>GET</td>\n",
       "      <td>/api/v1/items?page=3</td>\n",
       "      <td>HTTP/1.1</td>\n",
       "      <td>200</td>\n",
       "      <td>1787</td>\n",
       "      <td>python-requests/2.21.0</td>\n",
       "      <td>0.001704</td>\n",
       "    </tr>\n",
       "    <tr>\n",
       "      <th>2019-04-16 19:49:58</th>\n",
       "      <td>97.105.19.58</td>\n",
       "      <td>GET</td>\n",
       "      <td>/favicon.ico</td>\n",
       "      <td>HTTP/1.1</td>\n",
       "      <td>200</td>\n",
       "      <td>162</td>\n",
       "      <td>Mozilla/5.0 (Macintosh; Intel Mac OS X 10_14_4...</td>\n",
       "      <td>0.000154</td>\n",
       "    </tr>\n",
       "  </tbody>\n",
       "</table>\n",
       "</div>"
      ],
      "text/plain": [
       "                               ip request_method  \\\n",
       "timestamp                                          \n",
       "2019-04-16 19:49:58  97.105.19.58            GET   \n",
       "2019-04-16 19:49:58  97.105.19.58            GET   \n",
       "2019-04-16 19:49:58  97.105.19.58            GET   \n",
       "2019-04-16 19:49:58  97.105.19.58            GET   \n",
       "2019-04-16 19:49:58  97.105.19.58            GET   \n",
       "2019-04-16 19:49:58  97.105.19.58            GET   \n",
       "2019-04-16 19:49:58  97.105.19.58            GET   \n",
       "2019-04-16 19:49:58  97.105.19.58            GET   \n",
       "\n",
       "                                        request_path http_version status_code  \\\n",
       "timestamp                                                                       \n",
       "2019-04-16 19:49:58                    /api/v1/items     HTTP/1.1         200   \n",
       "2019-04-16 19:49:58           /api/v1/sales?page=122     HTTP/1.1         200   \n",
       "2019-04-16 19:49:58           /api/v1/sales?page=158     HTTP/1.1         200   \n",
       "2019-04-16 19:49:58             /api/v1/items?page=2     HTTP/1.1         200   \n",
       "2019-04-16 19:49:58  /api/v1//api/v1/items/next_page     HTTP/1.1         200   \n",
       "2019-04-16 19:49:58            /api/v1/sales?page=81     HTTP/1.1         200   \n",
       "2019-04-16 19:49:58             /api/v1/items?page=3     HTTP/1.1         200   \n",
       "2019-04-16 19:49:58                     /favicon.ico     HTTP/1.1         200   \n",
       "\n",
       "                       size  \\\n",
       "timestamp                     \n",
       "2019-04-16 19:49:58    3561   \n",
       "2019-04-16 19:49:58  510104   \n",
       "2019-04-16 19:49:58  510316   \n",
       "2019-04-16 19:49:58    3659   \n",
       "2019-04-16 19:49:58     162   \n",
       "2019-04-16 19:49:58  512495   \n",
       "2019-04-16 19:49:58    1787   \n",
       "2019-04-16 19:49:58     162   \n",
       "\n",
       "                                                            user_agent  \\\n",
       "timestamp                                                                \n",
       "2019-04-16 19:49:58                             python-requests/2.21.0   \n",
       "2019-04-16 19:49:58                             python-requests/2.21.0   \n",
       "2019-04-16 19:49:58                             python-requests/2.21.0   \n",
       "2019-04-16 19:49:58                             python-requests/2.21.0   \n",
       "2019-04-16 19:49:58  Mozilla/5.0 (Macintosh; Intel Mac OS X 10_14_4...   \n",
       "2019-04-16 19:49:58                             python-requests/2.21.0   \n",
       "2019-04-16 19:49:58                             python-requests/2.21.0   \n",
       "2019-04-16 19:49:58  Mozilla/5.0 (Macintosh; Intel Mac OS X 10_14_4...   \n",
       "\n",
       "                      size_mb  \n",
       "timestamp                      \n",
       "2019-04-16 19:49:58  0.003396  \n",
       "2019-04-16 19:49:58  0.486473  \n",
       "2019-04-16 19:49:58  0.486675  \n",
       "2019-04-16 19:49:58  0.003489  \n",
       "2019-04-16 19:49:58  0.000154  \n",
       "2019-04-16 19:49:58  0.488753  \n",
       "2019-04-16 19:49:58  0.001704  \n",
       "2019-04-16 19:49:58  0.000154  "
      ]
     },
     "execution_count": 13,
     "metadata": {},
     "output_type": "execute_result"
    }
   ],
   "source": [
    "#looking at the timestamp that has the second highest frequency occuring\n",
    "df[df.index == '2019-04-16 19:49:58']"
   ]
  },
  {
   "cell_type": "markdown",
   "id": "db1c7e0c",
   "metadata": {},
   "source": [
    "### Takeaways:\n",
    "This group definitely sends a red flad as the user_agent looks like it is coming from one computer and then another ( python vs browser).\n",
    "I would flag this IP address or find out more information as to who this is."
   ]
  },
  {
   "cell_type": "code",
   "execution_count": 14,
   "id": "185fa772",
   "metadata": {},
   "outputs": [
    {
     "data": {
      "text/html": [
       "<div>\n",
       "<style scoped>\n",
       "    .dataframe tbody tr th:only-of-type {\n",
       "        vertical-align: middle;\n",
       "    }\n",
       "\n",
       "    .dataframe tbody tr th {\n",
       "        vertical-align: top;\n",
       "    }\n",
       "\n",
       "    .dataframe thead th {\n",
       "        text-align: right;\n",
       "    }\n",
       "</style>\n",
       "<table border=\"1\" class=\"dataframe\">\n",
       "  <thead>\n",
       "    <tr style=\"text-align: right;\">\n",
       "      <th></th>\n",
       "      <th>ip</th>\n",
       "      <th>request_method</th>\n",
       "      <th>request_path</th>\n",
       "      <th>http_version</th>\n",
       "      <th>status_code</th>\n",
       "      <th>size</th>\n",
       "      <th>user_agent</th>\n",
       "      <th>size_mb</th>\n",
       "    </tr>\n",
       "    <tr>\n",
       "      <th>timestamp</th>\n",
       "      <th></th>\n",
       "      <th></th>\n",
       "      <th></th>\n",
       "      <th></th>\n",
       "      <th></th>\n",
       "      <th></th>\n",
       "      <th></th>\n",
       "      <th></th>\n",
       "    </tr>\n",
       "  </thead>\n",
       "  <tbody>\n",
       "    <tr>\n",
       "      <th>2019-04-16 20:01:30</th>\n",
       "      <td>97.105.19.58</td>\n",
       "      <td>GET</td>\n",
       "      <td>/api/v1/sales?page=110</td>\n",
       "      <td>HTTP/1.1</td>\n",
       "      <td>200</td>\n",
       "      <td>511980</td>\n",
       "      <td>python-requests/2.21.0</td>\n",
       "      <td>0.488262</td>\n",
       "    </tr>\n",
       "    <tr>\n",
       "      <th>2019-04-16 20:01:30</th>\n",
       "      <td>97.105.19.58</td>\n",
       "      <td>GET</td>\n",
       "      <td>/api/v1/items</td>\n",
       "      <td>HTTP/1.1</td>\n",
       "      <td>200</td>\n",
       "      <td>3561</td>\n",
       "      <td>python-requests/2.21.0</td>\n",
       "      <td>0.003396</td>\n",
       "    </tr>\n",
       "    <tr>\n",
       "      <th>2019-04-16 20:01:30</th>\n",
       "      <td>97.105.19.58</td>\n",
       "      <td>GET</td>\n",
       "      <td>/api/v1/items?page=2</td>\n",
       "      <td>HTTP/1.1</td>\n",
       "      <td>200</td>\n",
       "      <td>3659</td>\n",
       "      <td>python-requests/2.21.0</td>\n",
       "      <td>0.003489</td>\n",
       "    </tr>\n",
       "    <tr>\n",
       "      <th>2019-04-16 20:01:30</th>\n",
       "      <td>97.105.19.58</td>\n",
       "      <td>GET</td>\n",
       "      <td>/api/v1/sales?page=110</td>\n",
       "      <td>HTTP/1.1</td>\n",
       "      <td>200</td>\n",
       "      <td>511980</td>\n",
       "      <td>python-requests/2.20.1</td>\n",
       "      <td>0.488262</td>\n",
       "    </tr>\n",
       "    <tr>\n",
       "      <th>2019-04-16 20:01:30</th>\n",
       "      <td>97.105.19.58</td>\n",
       "      <td>GET</td>\n",
       "      <td>/api/v1/sales?page=158</td>\n",
       "      <td>HTTP/1.1</td>\n",
       "      <td>200</td>\n",
       "      <td>510316</td>\n",
       "      <td>python-requests/2.21.0</td>\n",
       "      <td>0.486675</td>\n",
       "    </tr>\n",
       "    <tr>\n",
       "      <th>2019-04-16 20:01:30</th>\n",
       "      <td>97.105.19.58</td>\n",
       "      <td>GET</td>\n",
       "      <td>/api/v1/sales?page=68</td>\n",
       "      <td>HTTP/1.1</td>\n",
       "      <td>200</td>\n",
       "      <td>510133</td>\n",
       "      <td>python-requests/2.21.0</td>\n",
       "      <td>0.486501</td>\n",
       "    </tr>\n",
       "    <tr>\n",
       "      <th>2019-04-16 20:01:30</th>\n",
       "      <td>97.105.19.58</td>\n",
       "      <td>GET</td>\n",
       "      <td>/api/v1/items?page=3</td>\n",
       "      <td>HTTP/1.1</td>\n",
       "      <td>200</td>\n",
       "      <td>1787</td>\n",
       "      <td>python-requests/2.21.0</td>\n",
       "      <td>0.001704</td>\n",
       "    </tr>\n",
       "  </tbody>\n",
       "</table>\n",
       "</div>"
      ],
      "text/plain": [
       "                               ip request_method            request_path  \\\n",
       "timestamp                                                                  \n",
       "2019-04-16 20:01:30  97.105.19.58            GET  /api/v1/sales?page=110   \n",
       "2019-04-16 20:01:30  97.105.19.58            GET           /api/v1/items   \n",
       "2019-04-16 20:01:30  97.105.19.58            GET    /api/v1/items?page=2   \n",
       "2019-04-16 20:01:30  97.105.19.58            GET  /api/v1/sales?page=110   \n",
       "2019-04-16 20:01:30  97.105.19.58            GET  /api/v1/sales?page=158   \n",
       "2019-04-16 20:01:30  97.105.19.58            GET   /api/v1/sales?page=68   \n",
       "2019-04-16 20:01:30  97.105.19.58            GET    /api/v1/items?page=3   \n",
       "\n",
       "                    http_version status_code    size              user_agent  \\\n",
       "timestamp                                                                      \n",
       "2019-04-16 20:01:30     HTTP/1.1         200  511980  python-requests/2.21.0   \n",
       "2019-04-16 20:01:30     HTTP/1.1         200    3561  python-requests/2.21.0   \n",
       "2019-04-16 20:01:30     HTTP/1.1         200    3659  python-requests/2.21.0   \n",
       "2019-04-16 20:01:30     HTTP/1.1         200  511980  python-requests/2.20.1   \n",
       "2019-04-16 20:01:30     HTTP/1.1         200  510316  python-requests/2.21.0   \n",
       "2019-04-16 20:01:30     HTTP/1.1         200  510133  python-requests/2.21.0   \n",
       "2019-04-16 20:01:30     HTTP/1.1         200    1787  python-requests/2.21.0   \n",
       "\n",
       "                      size_mb  \n",
       "timestamp                      \n",
       "2019-04-16 20:01:30  0.488262  \n",
       "2019-04-16 20:01:30  0.003396  \n",
       "2019-04-16 20:01:30  0.003489  \n",
       "2019-04-16 20:01:30  0.488262  \n",
       "2019-04-16 20:01:30  0.486675  \n",
       "2019-04-16 20:01:30  0.486501  \n",
       "2019-04-16 20:01:30  0.001704  "
      ]
     },
     "execution_count": 14,
     "metadata": {},
     "output_type": "execute_result"
    }
   ],
   "source": [
    "#looking at the timestamp that has the third highest frequency occuring\n",
    "df[df.index == '2019-04-16 20:01:30']"
   ]
  },
  {
   "cell_type": "code",
   "execution_count": 15,
   "id": "53716b72",
   "metadata": {},
   "outputs": [
    {
     "data": {
      "text/html": [
       "<div>\n",
       "<style scoped>\n",
       "    .dataframe tbody tr th:only-of-type {\n",
       "        vertical-align: middle;\n",
       "    }\n",
       "\n",
       "    .dataframe tbody tr th {\n",
       "        vertical-align: top;\n",
       "    }\n",
       "\n",
       "    .dataframe thead th {\n",
       "        text-align: right;\n",
       "    }\n",
       "</style>\n",
       "<table border=\"1\" class=\"dataframe\">\n",
       "  <thead>\n",
       "    <tr style=\"text-align: right;\">\n",
       "      <th></th>\n",
       "      <th>ip</th>\n",
       "      <th>request_method</th>\n",
       "      <th>request_path</th>\n",
       "      <th>http_version</th>\n",
       "      <th>status_code</th>\n",
       "      <th>size</th>\n",
       "      <th>user_agent</th>\n",
       "      <th>size_mb</th>\n",
       "    </tr>\n",
       "    <tr>\n",
       "      <th>timestamp</th>\n",
       "      <th></th>\n",
       "      <th></th>\n",
       "      <th></th>\n",
       "      <th></th>\n",
       "      <th></th>\n",
       "      <th></th>\n",
       "      <th></th>\n",
       "      <th></th>\n",
       "    </tr>\n",
       "  </thead>\n",
       "  <tbody>\n",
       "    <tr>\n",
       "      <th>2019-04-16 20:12:23</th>\n",
       "      <td>97.105.19.58</td>\n",
       "      <td>GET</td>\n",
       "      <td>/documentation</td>\n",
       "      <td>HTTP/1.1</td>\n",
       "      <td>200</td>\n",
       "      <td>348</td>\n",
       "      <td>python-requests/2.21.0</td>\n",
       "      <td>0.000332</td>\n",
       "    </tr>\n",
       "    <tr>\n",
       "      <th>2019-04-16 20:12:23</th>\n",
       "      <td>97.105.19.58</td>\n",
       "      <td>GET</td>\n",
       "      <td>/api/v1/sales?page=174</td>\n",
       "      <td>HTTP/1.1</td>\n",
       "      <td>200</td>\n",
       "      <td>510143</td>\n",
       "      <td>python-requests/2.20.1</td>\n",
       "      <td>0.486510</td>\n",
       "    </tr>\n",
       "    <tr>\n",
       "      <th>2019-04-16 20:12:23</th>\n",
       "      <td>97.105.19.58</td>\n",
       "      <td>GET</td>\n",
       "      <td>/api/v1/stores</td>\n",
       "      <td>HTTP/1.1</td>\n",
       "      <td>200</td>\n",
       "      <td>1328</td>\n",
       "      <td>python-requests/2.21.0</td>\n",
       "      <td>0.001266</td>\n",
       "    </tr>\n",
       "    <tr>\n",
       "      <th>2019-04-16 20:12:23</th>\n",
       "      <td>97.105.19.58</td>\n",
       "      <td>GET</td>\n",
       "      <td>/api/v1/items</td>\n",
       "      <td>HTTP/1.1</td>\n",
       "      <td>200</td>\n",
       "      <td>3561</td>\n",
       "      <td>python-requests/2.21.0</td>\n",
       "      <td>0.003396</td>\n",
       "    </tr>\n",
       "    <tr>\n",
       "      <th>2019-04-16 20:12:23</th>\n",
       "      <td>97.105.19.58</td>\n",
       "      <td>GET</td>\n",
       "      <td>/api/v1/items</td>\n",
       "      <td>HTTP/1.1</td>\n",
       "      <td>200</td>\n",
       "      <td>3561</td>\n",
       "      <td>python-requests/2.21.0</td>\n",
       "      <td>0.003396</td>\n",
       "    </tr>\n",
       "    <tr>\n",
       "      <th>2019-04-16 20:12:23</th>\n",
       "      <td>97.105.19.58</td>\n",
       "      <td>GET</td>\n",
       "      <td>/api/v1/sales?page=152</td>\n",
       "      <td>HTTP/1.1</td>\n",
       "      <td>200</td>\n",
       "      <td>510120</td>\n",
       "      <td>python-requests/2.21.0</td>\n",
       "      <td>0.486488</td>\n",
       "    </tr>\n",
       "  </tbody>\n",
       "</table>\n",
       "</div>"
      ],
      "text/plain": [
       "                               ip request_method            request_path  \\\n",
       "timestamp                                                                  \n",
       "2019-04-16 20:12:23  97.105.19.58            GET          /documentation   \n",
       "2019-04-16 20:12:23  97.105.19.58            GET  /api/v1/sales?page=174   \n",
       "2019-04-16 20:12:23  97.105.19.58            GET          /api/v1/stores   \n",
       "2019-04-16 20:12:23  97.105.19.58            GET           /api/v1/items   \n",
       "2019-04-16 20:12:23  97.105.19.58            GET           /api/v1/items   \n",
       "2019-04-16 20:12:23  97.105.19.58            GET  /api/v1/sales?page=152   \n",
       "\n",
       "                    http_version status_code    size              user_agent  \\\n",
       "timestamp                                                                      \n",
       "2019-04-16 20:12:23     HTTP/1.1         200     348  python-requests/2.21.0   \n",
       "2019-04-16 20:12:23     HTTP/1.1         200  510143  python-requests/2.20.1   \n",
       "2019-04-16 20:12:23     HTTP/1.1         200    1328  python-requests/2.21.0   \n",
       "2019-04-16 20:12:23     HTTP/1.1         200    3561  python-requests/2.21.0   \n",
       "2019-04-16 20:12:23     HTTP/1.1         200    3561  python-requests/2.21.0   \n",
       "2019-04-16 20:12:23     HTTP/1.1         200  510120  python-requests/2.21.0   \n",
       "\n",
       "                      size_mb  \n",
       "timestamp                      \n",
       "2019-04-16 20:12:23  0.000332  \n",
       "2019-04-16 20:12:23  0.486510  \n",
       "2019-04-16 20:12:23  0.001266  \n",
       "2019-04-16 20:12:23  0.003396  \n",
       "2019-04-16 20:12:23  0.003396  \n",
       "2019-04-16 20:12:23  0.486488  "
      ]
     },
     "execution_count": 15,
     "metadata": {},
     "output_type": "execute_result"
    }
   ],
   "source": [
    "#and then the timestamp with the 4th highest:\n",
    "df[df.index == '2019-04-16 20:12:23']"
   ]
  },
  {
   "cell_type": "code",
   "execution_count": 16,
   "id": "058e8941",
   "metadata": {},
   "outputs": [
    {
     "data": {
      "text/html": [
       "<div>\n",
       "<style scoped>\n",
       "    .dataframe tbody tr th:only-of-type {\n",
       "        vertical-align: middle;\n",
       "    }\n",
       "\n",
       "    .dataframe tbody tr th {\n",
       "        vertical-align: top;\n",
       "    }\n",
       "\n",
       "    .dataframe thead th {\n",
       "        text-align: right;\n",
       "    }\n",
       "</style>\n",
       "<table border=\"1\" class=\"dataframe\">\n",
       "  <thead>\n",
       "    <tr style=\"text-align: right;\">\n",
       "      <th></th>\n",
       "      <th>ip</th>\n",
       "      <th>request_method</th>\n",
       "      <th>request_path</th>\n",
       "      <th>http_version</th>\n",
       "      <th>status_code</th>\n",
       "      <th>size</th>\n",
       "      <th>user_agent</th>\n",
       "      <th>size_mb</th>\n",
       "    </tr>\n",
       "    <tr>\n",
       "      <th>timestamp</th>\n",
       "      <th></th>\n",
       "      <th></th>\n",
       "      <th></th>\n",
       "      <th></th>\n",
       "      <th></th>\n",
       "      <th></th>\n",
       "      <th></th>\n",
       "      <th></th>\n",
       "    </tr>\n",
       "  </thead>\n",
       "  <tbody>\n",
       "    <tr>\n",
       "      <th>2019-04-16 20:02:59</th>\n",
       "      <td>97.105.19.58</td>\n",
       "      <td>GET</td>\n",
       "      <td>/</td>\n",
       "      <td>HTTP/1.1</td>\n",
       "      <td>200</td>\n",
       "      <td>42</td>\n",
       "      <td>python-requests/2.21.0</td>\n",
       "      <td>0.000040</td>\n",
       "    </tr>\n",
       "    <tr>\n",
       "      <th>2019-04-16 20:02:59</th>\n",
       "      <td>97.105.19.58</td>\n",
       "      <td>GET</td>\n",
       "      <td>/documentation</td>\n",
       "      <td>HTTP/1.1</td>\n",
       "      <td>200</td>\n",
       "      <td>348</td>\n",
       "      <td>python-requests/2.21.0</td>\n",
       "      <td>0.000332</td>\n",
       "    </tr>\n",
       "    <tr>\n",
       "      <th>2019-04-16 20:02:59</th>\n",
       "      <td>97.105.19.58</td>\n",
       "      <td>GET</td>\n",
       "      <td>/api/v1/stores</td>\n",
       "      <td>HTTP/1.1</td>\n",
       "      <td>200</td>\n",
       "      <td>1328</td>\n",
       "      <td>python-requests/2.21.0</td>\n",
       "      <td>0.001266</td>\n",
       "    </tr>\n",
       "    <tr>\n",
       "      <th>2019-04-16 20:02:59</th>\n",
       "      <td>97.105.19.58</td>\n",
       "      <td>GET</td>\n",
       "      <td>/api/v1/sales?page=139</td>\n",
       "      <td>HTTP/1.1</td>\n",
       "      <td>200</td>\n",
       "      <td>513236</td>\n",
       "      <td>python-requests/2.20.1</td>\n",
       "      <td>0.489460</td>\n",
       "    </tr>\n",
       "    <tr>\n",
       "      <th>2019-04-16 20:02:59</th>\n",
       "      <td>97.105.19.58</td>\n",
       "      <td>GET</td>\n",
       "      <td>/api/v1/sales?page=99</td>\n",
       "      <td>HTTP/1.1</td>\n",
       "      <td>200</td>\n",
       "      <td>512312</td>\n",
       "      <td>python-requests/2.21.0</td>\n",
       "      <td>0.488579</td>\n",
       "    </tr>\n",
       "    <tr>\n",
       "      <th>2019-04-16 20:02:59</th>\n",
       "      <td>97.105.19.58</td>\n",
       "      <td>GET</td>\n",
       "      <td>/</td>\n",
       "      <td>HTTP/1.1</td>\n",
       "      <td>200</td>\n",
       "      <td>42</td>\n",
       "      <td>python-requests/2.21.0</td>\n",
       "      <td>0.000040</td>\n",
       "    </tr>\n",
       "  </tbody>\n",
       "</table>\n",
       "</div>"
      ],
      "text/plain": [
       "                               ip request_method            request_path  \\\n",
       "timestamp                                                                  \n",
       "2019-04-16 20:02:59  97.105.19.58            GET                       /   \n",
       "2019-04-16 20:02:59  97.105.19.58            GET          /documentation   \n",
       "2019-04-16 20:02:59  97.105.19.58            GET          /api/v1/stores   \n",
       "2019-04-16 20:02:59  97.105.19.58            GET  /api/v1/sales?page=139   \n",
       "2019-04-16 20:02:59  97.105.19.58            GET   /api/v1/sales?page=99   \n",
       "2019-04-16 20:02:59  97.105.19.58            GET                       /   \n",
       "\n",
       "                    http_version status_code    size              user_agent  \\\n",
       "timestamp                                                                      \n",
       "2019-04-16 20:02:59     HTTP/1.1         200      42  python-requests/2.21.0   \n",
       "2019-04-16 20:02:59     HTTP/1.1         200     348  python-requests/2.21.0   \n",
       "2019-04-16 20:02:59     HTTP/1.1         200    1328  python-requests/2.21.0   \n",
       "2019-04-16 20:02:59     HTTP/1.1         200  513236  python-requests/2.20.1   \n",
       "2019-04-16 20:02:59     HTTP/1.1         200  512312  python-requests/2.21.0   \n",
       "2019-04-16 20:02:59     HTTP/1.1         200      42  python-requests/2.21.0   \n",
       "\n",
       "                      size_mb  \n",
       "timestamp                      \n",
       "2019-04-16 20:02:59  0.000040  \n",
       "2019-04-16 20:02:59  0.000332  \n",
       "2019-04-16 20:02:59  0.001266  \n",
       "2019-04-16 20:02:59  0.489460  \n",
       "2019-04-16 20:02:59  0.488579  \n",
       "2019-04-16 20:02:59  0.000040  "
      ]
     },
     "execution_count": 16,
     "metadata": {},
     "output_type": "execute_result"
    }
   ],
   "source": [
    "#and then the timestamp with the 4th highest:\n",
    "df[df.index == '2019-04-16 20:02:59']"
   ]
  },
  {
   "cell_type": "code",
   "execution_count": 21,
   "id": "048a6c54",
   "metadata": {},
   "outputs": [
    {
     "data": {
      "text/html": [
       "<div>\n",
       "<style scoped>\n",
       "    .dataframe tbody tr th:only-of-type {\n",
       "        vertical-align: middle;\n",
       "    }\n",
       "\n",
       "    .dataframe tbody tr th {\n",
       "        vertical-align: top;\n",
       "    }\n",
       "\n",
       "    .dataframe thead th {\n",
       "        text-align: right;\n",
       "    }\n",
       "</style>\n",
       "<table border=\"1\" class=\"dataframe\">\n",
       "  <thead>\n",
       "    <tr style=\"text-align: right;\">\n",
       "      <th></th>\n",
       "      <th>count</th>\n",
       "      <th>proba</th>\n",
       "    </tr>\n",
       "  </thead>\n",
       "  <tbody>\n",
       "    <tr>\n",
       "      <th>2019-04-16 19:56:10</th>\n",
       "      <td>9</td>\n",
       "      <td>0.000644</td>\n",
       "    </tr>\n",
       "    <tr>\n",
       "      <th>2019-04-16 19:49:58</th>\n",
       "      <td>8</td>\n",
       "      <td>0.000572</td>\n",
       "    </tr>\n",
       "    <tr>\n",
       "      <th>2019-04-16 20:01:30</th>\n",
       "      <td>7</td>\n",
       "      <td>0.000501</td>\n",
       "    </tr>\n",
       "    <tr>\n",
       "      <th>2019-04-16 20:12:23</th>\n",
       "      <td>6</td>\n",
       "      <td>0.000429</td>\n",
       "    </tr>\n",
       "    <tr>\n",
       "      <th>2019-04-16 20:02:59</th>\n",
       "      <td>6</td>\n",
       "      <td>0.000429</td>\n",
       "    </tr>\n",
       "  </tbody>\n",
       "</table>\n",
       "</div>"
      ],
      "text/plain": [
       "                     count     proba\n",
       "2019-04-16 19:56:10      9  0.000644\n",
       "2019-04-16 19:49:58      8  0.000572\n",
       "2019-04-16 20:01:30      7  0.000501\n",
       "2019-04-16 20:12:23      6  0.000429\n",
       "2019-04-16 20:02:59      6  0.000429"
      ]
     },
     "execution_count": 21,
     "metadata": {},
     "output_type": "execute_result"
    }
   ],
   "source": [
    "ts_df = value_counts_and_frequencies(df.index)\n",
    "ts_df.head()"
   ]
  },
  {
   "cell_type": "code",
   "execution_count": 22,
   "id": "62d9de71",
   "metadata": {},
   "outputs": [
    {
     "data": {
      "text/plain": [
       "<AxesSubplot:>"
      ]
     },
     "execution_count": 22,
     "metadata": {},
     "output_type": "execute_result"
    },
    {
     "data": {
      "image/png": "[encoded data removed]",
      "text/plain": [
       "<Figure size 360x648 with 1 Axes>"
      ]
     },
     "metadata": {
      "needs_background": "light"
     },
     "output_type": "display_data"
    }
   ],
   "source": [
    "ts_df['count'].sort_values().tail(5).plot.barh(figsize=(5, 9))"
   ]
  },
  {
   "cell_type": "markdown",
   "id": "4cd82a78",
   "metadata": {},
   "source": [
    "_______________________________________________"
   ]
  },
  {
   "cell_type": "markdown",
   "id": "eb1dde6d",
   "metadata": {},
   "source": [
    "### Looking at request_method:"
   ]
  },
  {
   "cell_type": "code",
   "execution_count": 17,
   "id": "e013eb42",
   "metadata": {},
   "outputs": [
    {
     "data": {
      "text/html": [
       "<div>\n",
       "<style scoped>\n",
       "    .dataframe tbody tr th:only-of-type {\n",
       "        vertical-align: middle;\n",
       "    }\n",
       "\n",
       "    .dataframe tbody tr th {\n",
       "        vertical-align: top;\n",
       "    }\n",
       "\n",
       "    .dataframe thead th {\n",
       "        text-align: right;\n",
       "    }\n",
       "</style>\n",
       "<table border=\"1\" class=\"dataframe\">\n",
       "  <thead>\n",
       "    <tr style=\"text-align: right;\">\n",
       "      <th></th>\n",
       "      <th>ip</th>\n",
       "      <th>request_method</th>\n",
       "      <th>request_path</th>\n",
       "      <th>http_version</th>\n",
       "      <th>status_code</th>\n",
       "      <th>size</th>\n",
       "      <th>user_agent</th>\n",
       "      <th>size_mb</th>\n",
       "    </tr>\n",
       "    <tr>\n",
       "      <th>timestamp</th>\n",
       "      <th></th>\n",
       "      <th></th>\n",
       "      <th></th>\n",
       "      <th></th>\n",
       "      <th></th>\n",
       "      <th></th>\n",
       "      <th></th>\n",
       "      <th></th>\n",
       "    </tr>\n",
       "  </thead>\n",
       "  <tbody>\n",
       "  </tbody>\n",
       "</table>\n",
       "</div>"
      ],
      "text/plain": [
       "Empty DataFrame\n",
       "Columns: [ip, request_method, request_path, http_version, status_code, size, user_agent, size_mb]\n",
       "Index: []"
      ]
     },
     "execution_count": 17,
     "metadata": {},
     "output_type": "execute_result"
    }
   ],
   "source": [
    "#finding any request methods that are not GET:\n",
    "df[df.request_method != 'GET']"
   ]
  },
  {
   "cell_type": "markdown",
   "id": "dede8320",
   "metadata": {},
   "source": [
    "### Takeaways: \n",
    "It looks like GET (or downloading) is the only request method happening in all of the logs."
   ]
  },
  {
   "cell_type": "markdown",
   "id": "25fddd52",
   "metadata": {},
   "source": [
    "______________________________________________________________"
   ]
  },
  {
   "cell_type": "markdown",
   "id": "15330caf",
   "metadata": {},
   "source": [
    "### Looking at request_path:"
   ]
  },
  {
   "cell_type": "code",
   "execution_count": 18,
   "id": "a3629ba5",
   "metadata": {},
   "outputs": [
    {
     "data": {
      "text/plain": [
       "/api/v1/sales?page=2                 709\n",
       "/api/v1/items                        464\n",
       "/api/v1/items?page=2                 291\n",
       "/api/v1/items?page=3                 219\n",
       "/api/v1/stores                       162\n",
       "                                    ... \n",
       "/api/v1/items?page=0                   1\n",
       "/api/v1/stores?page=999                1\n",
       "/api/v1/stores?page=2                  1\n",
       "/api/v1/stores?page=666                1\n",
       "/api/v1/items/api/v1/items?page=3      1\n",
       "Name: request_path, Length: 218, dtype: int64"
      ]
     },
     "execution_count": 18,
     "metadata": {},
     "output_type": "execute_result"
    }
   ],
   "source": [
    "df.request_path.value_counts()"
   ]
  },
  {
   "cell_type": "code",
   "execution_count": 45,
   "id": "59ced52a",
   "metadata": {},
   "outputs": [
    {
     "data": {
      "text/plain": [
       "/api/v1/sales?page=161                     59\n",
       "/api/v1/sales?page=137                     59\n",
       "/api/v1/sales?page=1                       57\n",
       "/api/v1/stores?page=1                      56\n",
       "/favicon.ico                               26\n",
       "/api/v1//api/v1/items?page=2               10\n",
       "/api/v1/items/api/v1/items?page=2           6\n",
       "/api/v1/items/next_page                     5\n",
       "/api/v1/stores?page=3                       4\n",
       "/api/v1/                                    4\n",
       "/api/v1/itemsitems                          3\n",
       "/api/v1/store                               3\n",
       "/api/v1/sales/?page=2                       3\n",
       "/api/v1/stores?page=0                       2\n",
       "/api/v1/stores?page=183                     2\n",
       "/api/v1items                                2\n",
       "/api/v1/items?page=4                        1\n",
       "/api/v1/items&page=0                        1\n",
       "/api/v1/items?page=99999999999999999998     1\n",
       "/api/V1/HiZach!                             1\n",
       "/api/v1/I_DIDNT_DO_IT!!!!                   1\n",
       "/api/v1/helloclass!                         1\n",
       "/api/v1                                     1\n",
       "/api/v1//api/v1/items/next_page             1\n",
       "/api/v1//api/v1/items                       1\n",
       "/api/v1/items?page=0                        1\n",
       "/api/v1/stores?page=999                     1\n",
       "/api/v1/stores?page=2                       1\n",
       "/api/v1/stores?page=666                     1\n",
       "/api/v1/items/api/v1/items?page=3           1\n",
       "Name: request_path, dtype: int64"
      ]
     },
     "execution_count": 45,
     "metadata": {},
     "output_type": "execute_result"
    }
   ],
   "source": [
    "#finding the anomalies at the tail-end of everything...funny names...\n",
    "df.request_path.value_counts().tail(30)"
   ]
  },
  {
   "cell_type": "markdown",
   "id": "c51fa753",
   "metadata": {},
   "source": [
    "_____________________________________________"
   ]
  },
  {
   "cell_type": "markdown",
   "id": "ca5f3aa1",
   "metadata": {},
   "source": [
    "### Looking at status_code:"
   ]
  },
  {
   "cell_type": "code",
   "execution_count": 36,
   "id": "17a9d03e",
   "metadata": {},
   "outputs": [
    {
     "data": {
      "text/plain": [
       "200    13958\n",
       "499       16\n",
       "Name: status_code, dtype: int64"
      ]
     },
     "execution_count": 36,
     "metadata": {},
     "output_type": "execute_result"
    }
   ],
   "source": [
    "#value_counts() of the status_codes:\n",
    "df.status_code.value_counts()"
   ]
  },
  {
   "cell_type": "markdown",
   "id": "95fefdd5",
   "metadata": {},
   "source": [
    "### Takeaways:\n",
    "499 codes are telling that \"the client shut off in the middle of processing the request through the server\"(belugcna.com).\n",
    "<br><br>This possibly could be when students close their notebooks during long queries?"
   ]
  },
  {
   "cell_type": "markdown",
   "id": "57da946b",
   "metadata": {},
   "source": [
    "_______________________________________________"
   ]
  },
  {
   "cell_type": "markdown",
   "id": "3486576d",
   "metadata": {},
   "source": [
    "### Looking at size_mb:"
   ]
  },
  {
   "cell_type": "code",
   "execution_count": 44,
   "id": "6cf5d267",
   "metadata": {},
   "outputs": [
    {
     "data": {
      "text/plain": [
       "0.312356    1\n",
       "0.343606    1\n",
       "0.265481    1\n",
       "0.327981    1\n",
       "0.390481    1\n",
       "Name: size_mb, dtype: int64"
      ]
     },
     "execution_count": 44,
     "metadata": {},
     "output_type": "execute_result"
    }
   ],
   "source": [
    "df.size_mb.value_counts().tail()"
   ]
  },
  {
   "cell_type": "markdown",
   "id": "1026be95",
   "metadata": {},
   "source": [
    "________________________________________"
   ]
  },
  {
   "cell_type": "markdown",
   "id": "5233d45f",
   "metadata": {},
   "source": [
    "### Looking at user_agent counts:"
   ]
  },
  {
   "cell_type": "code",
   "execution_count": 50,
   "id": "b1fcc5d8",
   "metadata": {},
   "outputs": [
    {
     "data": {
      "text/plain": [
       "python-requests/2.21.0                                                                                                       12001\n",
       "python-requests/2.20.1                                                                                                        1911\n",
       "Mozilla/5.0 (Macintosh; Intel Mac OS X 10_14_4) AppleWebKit/537.36 (KHTML, like Gecko) Chrome/73.0.3683.103 Safari/537.36       34\n",
       "Mozilla/5.0 (Macintosh; Intel Mac OS X 10.14; rv:66.0) Gecko/20100101 Firefox/66.0                                               8\n",
       "Slackbot-LinkExpanding 1.0 (+https://api.slack.com/robots)                                                                       7\n",
       "Slackbot 1.0 (+https://api.slack.com/robots)                                                                                     6\n",
       "Mozilla/5.0 (Macintosh; Intel Mac OS X 10_14_3) AppleWebKit/537.36 (KHTML, like Gecko) Chrome/73.0.3683.103 Safari/537.36        4\n",
       "Mozilla/5.0 (Macintosh; Intel Mac OS X 10_14_3) AppleWebKit/537.36 (KHTML, like Gecko) Chrome/72.0.3626.121 Safari/537.36        2\n",
       "Python-urllib/3.7                                                                                                                1\n",
       "Name: user_agent, dtype: int64"
      ]
     },
     "execution_count": 50,
     "metadata": {},
     "output_type": "execute_result"
    }
   ],
   "source": [
    "#taking in all the value counts of user_agent:\n",
    "df.user_agent.value_counts()"
   ]
  },
  {
   "cell_type": "code",
   "execution_count": null,
   "id": "c5ef2208",
   "metadata": {},
   "outputs": [],
   "source": [
    "### Takeaways:\n",
    "In looking up the "
   ]
  }
 ],
 "metadata": {
  "kernelspec": {
   "display_name": "Python 3 (ipykernel)",
   "language": "python",
   "name": "python3"
  },
  "language_info": {
   "codemirror_mode": {
    "name": "ipython",
    "version": 3
   },
   "file_extension": ".py",
   "mimetype": "text/x-python",
   "name": "python",
   "nbconvert_exporter": "python",
   "pygments_lexer": "ipython3",
   "version": "3.9.7"
  }
 },
 "nbformat": 4,
 "nbformat_minor": 5
}
